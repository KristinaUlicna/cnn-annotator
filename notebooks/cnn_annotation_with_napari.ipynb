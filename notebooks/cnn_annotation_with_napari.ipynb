{
 "cells": [
  {
   "cell_type": "code",
   "execution_count": 1,
   "metadata": {},
   "outputs": [],
   "source": [
    "import os\n",
    "import json\n",
    "import napari\n",
    "\n",
    "import numpy as np\n",
    "\n",
    "from enum import Enum\n",
    "from magicgui import magicgui\n",
    "from skimage import io\n",
    "from pathlib import Path\n",
    "\n",
    "from napari.layers import Image"
   ]
  },
  {
   "cell_type": "code",
   "execution_count": 2,
   "metadata": {},
   "outputs": [],
   "source": [
    "filename = \"/media/quantumjot/DataIII/Data/Giulia/GV0800/Pos12/Pos12_aligned.tif\"\n",
    "\n",
    "data = io.imread(filename)\n",
    "metadata = {\"filename\": filename}"
   ]
  },
  {
   "cell_type": "code",
   "execution_count": null,
   "metadata": {},
   "outputs": [],
   "source": []
  },
  {
   "cell_type": "code",
   "execution_count": 3,
   "metadata": {},
   "outputs": [],
   "source": [
    "class CellState(Enum):\n",
    "    Interphase = 0\n",
    "    Prometaphase = 1\n",
    "    Metaphase = 2\n",
    "    Anaphase = 3\n",
    "    Apoptosis = 4"
   ]
  },
  {
   "cell_type": "code",
   "execution_count": 4,
   "metadata": {},
   "outputs": [],
   "source": [
    "COLOR_CYCLE = [\n",
    "    '#1f77b4',\n",
    "    '#ff7f0e',\n",
    "    '#2ca02c',\n",
    "    '#d62728',\n",
    "    '#9467bd',\n",
    "]"
   ]
  },
  {
   "cell_type": "code",
   "execution_count": 5,
   "metadata": {},
   "outputs": [],
   "source": [
    "def annotator(viewer):\n",
    "    \n",
    "    # add an empty points layer, with the same dimensions as the image data\n",
    "    points_layer = viewer.add_points(name=\"Annotation\", properties={'State': [s.name for s in CellState]}, ndim=3)\n",
    "\n",
    "    points_layer.mode = 'add'\n",
    "    points_layer.face_color = 'State'\n",
    "    points_layer.face_color_cycle = COLOR_CYCLE\n",
    "    points_layer.face_color_mode = 'cycle'\n",
    "    points_layer.n_dimensional = True\n",
    "    \n",
    "    def export():\n",
    "        print(points_layer.data)\n",
    "        print(points_layer.properties['State'].tolist())\n",
    "\n",
    "    @magicgui(\n",
    "        call_button=\"Export\",\n",
    "        layout=\"horizontal\",\n",
    "        filename={\"label\": \"Export path:\"},  # custom label\n",
    "    )\n",
    "    def cnn_annotation_widget(\n",
    "        filename=Path.home(),  # path objects are provided a file picker\n",
    "        shape=64,\n",
    "        use_visible_layers=True,\n",
    "        state=CellState.Interphase,\n",
    "    ):\n",
    "        \"\"\"Export the annotations.\"\"\"\n",
    "        \n",
    "        data = {'shape': shape}\n",
    "        \n",
    "        # find the visible image layers and export the metadata\n",
    "        image_layers = [layer for layer in viewer.layers if isinstance(layer, Image)]\n",
    "        for layer in image_layers:\n",
    "            if use_visible_layers and layer.visible:\n",
    "                data[layer.name] = layer.metadata\n",
    "                \n",
    "        # record the coordinates of the annotations \n",
    "        for idx in range( points_layer.data.shape[1]):\n",
    "            data[f'coords-{idx}'] = points_layer.data[:, idx].tolist()\n",
    "        \n",
    "        # record the state labels of the annotations \n",
    "        data['labels'] = points_layer.properties['State'].tolist()\n",
    "        \n",
    "        fn = 'test.json'\n",
    "#         export_filename = filename / fn\n",
    "        with open(fn, 'w') as json_file:\n",
    "            json.dump(data, json_file, indent=2)\n",
    "        \n",
    "        return locals().values()\n",
    "    \n",
    "    def _change_points_properties(event):\n",
    "        \"\"\"Update the current properties of the points layer to reflect the currently selected state\"\"\"\n",
    "        points_layer.current_properties['State'] = np.array([cnn_annotation_widget.state.value.name])\n",
    "    \n",
    "    cnn_annotation_widget.state.changed.connect(_change_points_properties)\n",
    "    \n",
    "    # add the magicgui dock widget \n",
    "    viewer.window.add_dock_widget(cnn_annotation_widget)\n",
    "    \n",
    "    @viewer.bind_key('.')\n",
    "    def next_label(event=None):\n",
    "        \"\"\"Increment the label in the gui\"\"\"\n",
    "        new_state = (cnn_annotation_widget.state.value.value + 1) % len(CellState)\n",
    "        cnn_annotation_widget.state.value = CellState(new_state)\n",
    "        \n",
    "    \n",
    "    @viewer.bind_key(',')\n",
    "    def previous_label(event=None):\n",
    "        \"\"\"Decrement the label in the gui\"\"\"\n",
    "        new_state = (cnn_annotation_widget.state.value.value - 1) % len(CellState)\n",
    "        cnn_annotation_widget.state.value = CellState(new_state)\n",
    "\n",
    "        \n",
    "#     def _on_click(layer, event):\n",
    "#         print(points_layer.current_properties)\n",
    "        \n",
    "#     points_layer.mouse_drag_callbacks.append(_on_click)\n",
    "    \n",
    "\n",
    "        \n",
    "\n",
    "        \n",
    "\n",
    "\n",
    "\n"
   ]
  },
  {
   "cell_type": "code",
   "execution_count": 6,
   "metadata": {},
   "outputs": [],
   "source": [
    "with napari.gui_qt():\n",
    "    viewer = napari.Viewer()\n",
    "    viewer.add_image(io.imread(filename), name='GFP', metadata=metadata)\n",
    "   \n",
    "    annotator(viewer)\n",
    "    "
   ]
  },
  {
   "cell_type": "code",
   "execution_count": null,
   "metadata": {},
   "outputs": [],
   "source": []
  }
 ],
 "metadata": {
  "kernelspec": {
   "display_name": "Python [conda env:napari-dev]",
   "language": "python",
   "name": "conda-env-napari-dev-py"
  },
  "language_info": {
   "codemirror_mode": {
    "name": "ipython",
    "version": 3
   },
   "file_extension": ".py",
   "mimetype": "text/x-python",
   "name": "python",
   "nbconvert_exporter": "python",
   "pygments_lexer": "ipython3",
   "version": "3.7.7"
  }
 },
 "nbformat": 4,
 "nbformat_minor": 4
}

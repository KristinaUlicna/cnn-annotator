{
 "cells": [
  {
   "cell_type": "code",
   "execution_count": 1,
   "metadata": {},
   "outputs": [],
   "source": [
    "import os\n",
    "import json\n",
    "import napari\n",
    "\n",
    "import numpy as np\n",
    "\n",
    "from enum import Enum\n",
    "from magicgui import magicgui\n",
    "from skimage.io import imread\n",
    "from pathlib import Path\n",
    "\n",
    "from napari.layers import Image\n",
    "\n",
    "from datetime import datetime\n",
    "\n",
    "from zipfile import ZipFile\n",
    "from skimage.external.tifffile import TiffWriter\n",
    "import io"
   ]
  },
  {
   "cell_type": "code",
   "execution_count": 2,
   "metadata": {},
   "outputs": [],
   "source": [
    "filename = \"/Users/arl/Desktop/Pos12_aligned.tif\""
   ]
  },
  {
   "cell_type": "code",
   "execution_count": 3,
   "metadata": {},
   "outputs": [],
   "source": [
    "# load the image data\n",
    "data = imread(filename)\n",
    "metadata = {\"filename\": filename}"
   ]
  },
  {
   "cell_type": "code",
   "execution_count": null,
   "metadata": {},
   "outputs": [],
   "source": []
  },
  {
   "cell_type": "code",
   "execution_count": 4,
   "metadata": {},
   "outputs": [],
   "source": [
    "class CellState(Enum):\n",
    "    Interphase = 0\n",
    "    Prometaphase = 1\n",
    "    Metaphase = 2\n",
    "    Anaphase = 3\n",
    "    Apoptosis = 4"
   ]
  },
  {
   "cell_type": "code",
   "execution_count": 5,
   "metadata": {},
   "outputs": [],
   "source": [
    "COLOR_CYCLE = [\n",
    "    '#1f77b4',\n",
    "    '#ff7f0e',\n",
    "    '#2ca02c',\n",
    "    '#d62728',\n",
    "    '#9467bd',\n",
    "]"
   ]
  },
  {
   "cell_type": "code",
   "execution_count": 6,
   "metadata": {},
   "outputs": [],
   "source": [
    "def get_image_patch(layers, coords, shape=64):\n",
    "    \"\"\"Get an image patch from the image layer data.\n",
    "    \n",
    "    @Kristina\n",
    "    TODO: We need to extract the image patches from the layer data.\n",
    "    Layers is a list of layers, each layer has a .data property containing the image data.\n",
    "    \n",
    "    \"\"\"\n",
    "    return np.random.randint(0,255,size=(64,64)).astype(np.uint8)"
   ]
  },
  {
   "cell_type": "code",
   "execution_count": 7,
   "metadata": {},
   "outputs": [],
   "source": [
    "def annotator(viewer):\n",
    "    \n",
    "    SESSION_TIME = datetime.now().strftime(\"%m-%d-%Y--%H-%M-%S\")\n",
    "    SESSION_NAME = f\"annotation_{SESSION_TIME}\"\n",
    "    \n",
    "    # add an empty points layer, with the same dimensions as the image data\n",
    "    points_layer = viewer.add_points(\n",
    "        name=\"Annotation\", \n",
    "        properties={'State': [s.name for s in CellState]}, \n",
    "        ndim=data.ndim\n",
    "    )\n",
    "\n",
    "    points_layer.mode = 'add'\n",
    "    points_layer.face_color = 'State'\n",
    "    points_layer.face_color_cycle = COLOR_CYCLE\n",
    "    points_layer.face_color_mode = 'cycle'\n",
    "#     points_layer.n_dimensional = True\n",
    "    \n",
    "    @magicgui(\n",
    "        call_button=\"Export\",\n",
    "        layout=\"horizontal\",\n",
    "        filename={\"label\": \"Export path:\"},  # custom label\n",
    "    )\n",
    "    def cnn_annotation_widget(\n",
    "        filename=Path.home(),  # path objects are provided a file picker\n",
    "        shape=64,\n",
    "        use_visible_layers=True,\n",
    "        state=CellState.Interphase,\n",
    "    ):\n",
    "        \"\"\"Export the annotations.\"\"\"\n",
    "        \n",
    "        export_data = {'shape': shape}\n",
    "        \n",
    "        # find the visible image layers and export the metadata\n",
    "        image_layers = [layer for layer in viewer.layers if isinstance(layer, Image)]\n",
    "        for layer in image_layers:\n",
    "            if use_visible_layers and layer.visible:\n",
    "                export_data[layer.name] = layer.metadata\n",
    "                \n",
    "        # record the coordinates of the annotations \n",
    "        for idx in range(points_layer.data.shape[1]):\n",
    "            export_data[f'coords-{idx}'] = points_layer.data[:, idx].tolist()\n",
    "        \n",
    "        # record the state labels of the annotations \n",
    "        export_data['labels'] = points_layer.properties['State'].tolist()\n",
    "        \n",
    "        # extract the image patches here\n",
    "        with ZipFile(f\"{SESSION_NAME}.zip\", 'w') as myzip:\n",
    "            for idx, patch_coords in enumerate(points_layer.data):\n",
    "                patch_label = points_layer.properties['State'][idx]\n",
    "\n",
    "                # grab the image patch\n",
    "                image_patch = get_image_patch(image_layers, patch_coords, shape=shape)\n",
    "                image_patch_fn = f\"{patch_label}/{patch_label}_{SESSION_TIME}_{idx}.tif\"\n",
    "    \n",
    "                # open a stream to write to the zip file\n",
    "                stream = io.BytesIO()\n",
    "                with TiffWriter(stream) as tif:\n",
    "                    tif.save(image_patch)\n",
    "                    stream_data = stream.getvalue()\n",
    "                myzip.writestr(image_patch_fn, stream_data)\n",
    "        \n",
    "            # write out the json log to the zip file also\n",
    "            stream = json.dumps(export_data, indent=2)\n",
    "            myzip.writestr(f\"{SESSION_NAME}.json\", stream)\n",
    "        \n",
    "        return locals().values()\n",
    "    \n",
    "    def _change_points_properties(event):\n",
    "        \"\"\"Update the current properties of the points layer to reflect the currently selected state\"\"\"\n",
    "        points_layer.current_properties['State'] = np.array([cnn_annotation_widget.state.value.name])\n",
    "    \n",
    "    cnn_annotation_widget.state.changed.connect(_change_points_properties)\n",
    "    \n",
    "    # add the magicgui dock widget \n",
    "    viewer.window.add_dock_widget(cnn_annotation_widget)\n",
    "    \n",
    "    @viewer.bind_key('.')\n",
    "    def next_label(event=None):\n",
    "        \"\"\"Increment the label in the gui\"\"\"\n",
    "        new_state = (cnn_annotation_widget.state.value.value + 1) % len(CellState)\n",
    "        cnn_annotation_widget.state.value = CellState(new_state)\n",
    "        \n",
    "    \n",
    "    @viewer.bind_key(',')\n",
    "    def previous_label(event=None):\n",
    "        \"\"\"Decrement the label in the gui\"\"\"\n",
    "        new_state = (cnn_annotation_widget.state.value.value - 1) % len(CellState)\n",
    "        cnn_annotation_widget.state.value = CellState(new_state)\n",
    "\n",
    "    \n",
    "\n",
    "        \n",
    "\n",
    "        \n",
    "\n",
    "\n",
    "\n"
   ]
  },
  {
   "cell_type": "code",
   "execution_count": 8,
   "metadata": {},
   "outputs": [],
   "source": [
    "with napari.gui_qt():\n",
    "    viewer = napari.Viewer()\n",
    "    viewer.add_image(data, name='GFP', metadata=metadata)\n",
    "   \n",
    "    annotator(viewer)\n",
    "    "
   ]
  },
  {
   "cell_type": "code",
   "execution_count": null,
   "metadata": {},
   "outputs": [],
   "source": []
  },
  {
   "cell_type": "code",
   "execution_count": null,
   "metadata": {},
   "outputs": [],
   "source": []
  }
 ],
 "metadata": {
  "kernelspec": {
   "display_name": "Python [conda env:napari]",
   "language": "python",
   "name": "conda-env-napari-py"
  },
  "language_info": {
   "codemirror_mode": {
    "name": "ipython",
    "version": 3
   },
   "file_extension": ".py",
   "mimetype": "text/x-python",
   "name": "python",
   "nbconvert_exporter": "python",
   "pygments_lexer": "ipython3",
   "version": "3.7.5"
  }
 },
 "nbformat": 4,
 "nbformat_minor": 4
}

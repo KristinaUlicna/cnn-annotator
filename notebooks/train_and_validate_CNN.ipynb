{
 "cells": [
  {
   "cell_type": "markdown",
   "metadata": {},
   "source": [
    "# Training a CNN for cell cycle state classification"
   ]
  },
  {
   "cell_type": "code",
   "execution_count": 1,
   "metadata": {},
   "outputs": [],
   "source": [
    "if 'google.colab' in str(get_ipython()):\n",
    "    !pip install -q git+git://github.com/quantumjot/cellx.git"
   ]
  },
  {
   "cell_type": "code",
   "execution_count": 1,
   "metadata": {},
   "outputs": [],
   "source": [
    "import os\n",
    "import numpy as np"
   ]
  },
  {
   "cell_type": "code",
   "execution_count": 2,
   "metadata": {},
   "outputs": [],
   "source": [
    "import tensorflow.keras as K\n",
    "import tensorflow as tf"
   ]
  },
  {
   "cell_type": "code",
   "execution_count": 3,
   "metadata": {},
   "outputs": [],
   "source": [
    "from cellx.layers import Encoder2D\n",
    "from cellx.tools.dataset import build_dataset\n",
    "from cellx.tools.dataset import write_dataset\n",
    "from cellx.augmentation.utils import append_conditional_augmentation, augmentation_label_handler\n",
    "from cellx.callbacks import tensorboard_confusion_matrix_callback"
   ]
  },
  {
   "cell_type": "code",
   "execution_count": 4,
   "metadata": {},
   "outputs": [],
   "source": [
    "TRAIN_PATH = \"/media/quantumjot/Data/TrainingData/CNN_training_MDCK_v2_merged\"\n",
    "TEST_PATH = \"/media/quantumjot/Data/TrainingData/CNN_test_MDCK_v2\"\n",
    "FILE = os.path.join(TRAIN_PATH, 'CNN_cellx.tfrecord')\n",
    "LABELS = [\"interphase\", \"prometaphase\", \"metaphase\", \"anaphase\", \"apoptosis\"]\n",
    "BATCH_SIZE = 64\n",
    "BUFFER_SIZE = 20_000\n",
    "TRAINING_EPOCHS = 100"
   ]
  },
  {
   "cell_type": "code",
   "execution_count": 5,
   "metadata": {},
   "outputs": [],
   "source": [
    "%load_ext tensorboard\n",
    "from datetime import datetime\n",
    "LOG_ROOT = '/media/quantumjot/DataIII/Training/logs'\n",
    "LOG_DIR = os.path.join(LOG_ROOT, datetime.now().strftime(\"%Y%m%d-%H%M%S\"))"
   ]
  },
  {
   "cell_type": "code",
   "execution_count": 6,
   "metadata": {},
   "outputs": [],
   "source": [
    "from skimage.io import imread\n",
    "from skimage.transform import resize\n",
    "\n",
    "def create_tf_record(\n",
    "    filename,\n",
    "    root, \n",
    "    labels=LABELS\n",
    "):\n",
    "    \n",
    "    _images = []\n",
    "    _labels = []\n",
    "    \n",
    "    for numeric_label, label in enumerate(labels):\n",
    "        \n",
    "        _path = os.path.join(root, label)\n",
    "        files = [f for f in os.listdir(_path) if f.endswith(\".png\")]\n",
    "        images = [imread(os.path.join(_path, f))[..., 1] for f in files]\n",
    "        images_resized = [resize(img, (64, 64), preserve_range=True) for img in images]\n",
    "\n",
    "        _images += images_resized\n",
    "        _labels += [numeric_label] * len(images_resized)\n",
    "        \n",
    "        print(f\"{label}: {len(images_resized)}\")\n",
    "        \n",
    "    images_arr = np.stack(_images, axis=0)[..., np.newaxis]\n",
    "    labels_arr = np.stack(_labels, axis=0)\n",
    "    \n",
    "    print(f\"Total images: {images_arr.shape[0]}\")\n",
    "    write_dataset(filename, images_arr.astype(np.uint8), labels=labels_arr.astype(np.int64))\n",
    "        "
   ]
  },
  {
   "cell_type": "code",
   "execution_count": 7,
   "metadata": {},
   "outputs": [],
   "source": [
    "# create_tf_record(FILE, TRAIN_PATH)"
   ]
  },
  {
   "cell_type": "code",
   "execution_count": null,
   "metadata": {},
   "outputs": [],
   "source": []
  },
  {
   "cell_type": "code",
   "execution_count": 8,
   "metadata": {},
   "outputs": [],
   "source": [
    "img = K.layers.Input(shape=(64, 64, 1))\n",
    "x = Encoder2D(layers=[8, 16, 32, 64, 128])(img)\n",
    "x = K.layers.Flatten()(x)\n",
    "x = K.layers.Dense(256, activation=\"swish\")(x)\n",
    "x = K.layers.Dropout(0.2)(x)\n",
    "logits = K.layers.Dense(5, activation=\"linear\")(x)"
   ]
  },
  {
   "cell_type": "code",
   "execution_count": 9,
   "metadata": {},
   "outputs": [],
   "source": [
    "model = K.Model(inputs=img, outputs=logits)"
   ]
  },
  {
   "cell_type": "code",
   "execution_count": 10,
   "metadata": {},
   "outputs": [
    {
     "name": "stdout",
     "output_type": "stream",
     "text": [
      "Model: \"model\"\n",
      "_________________________________________________________________\n",
      "Layer (type)                 Output Shape              Param #   \n",
      "=================================================================\n",
      "input_1 (InputLayer)         [(None, 64, 64, 1)]       0         \n",
      "_________________________________________________________________\n",
      "encoder2d (Encoder2D)        (None, 4, 4, 128)         99232     \n",
      "_________________________________________________________________\n",
      "flatten (Flatten)            (None, 2048)              0         \n",
      "_________________________________________________________________\n",
      "dense (Dense)                (None, 256)               524544    \n",
      "_________________________________________________________________\n",
      "dropout (Dropout)            (None, 256)               0         \n",
      "_________________________________________________________________\n",
      "dense_1 (Dense)              (None, 5)                 1285      \n",
      "=================================================================\n",
      "Total params: 625,061\n",
      "Trainable params: 624,565\n",
      "Non-trainable params: 496\n",
      "_________________________________________________________________\n"
     ]
    }
   ],
   "source": [
    "model.summary()"
   ]
  },
  {
   "cell_type": "code",
   "execution_count": 11,
   "metadata": {},
   "outputs": [],
   "source": [
    "@augmentation_label_handler\n",
    "def normalize(img):\n",
    "    img = tf.image.per_image_standardization(img)\n",
    "    # clip to 4 standard deviations\n",
    "    img = tf.clip_by_value(img, -4., 4.)\n",
    "    tf.debugging.check_numerics(img, \"Image contains NaN\")\n",
    "    return img"
   ]
  },
  {
   "cell_type": "code",
   "execution_count": 12,
   "metadata": {},
   "outputs": [],
   "source": [
    "@augmentation_label_handler\n",
    "def augment(img):\n",
    "    boundary_augmentation=True\n",
    "    if boundary_augmentation:\n",
    "        # this will randomly simulate the cropping that occurs at the edge of\n",
    "        # an image volume\n",
    "\n",
    "        vignette = np.ones((64, 64, 1), dtype=np.float32)\n",
    "        width = np.random.randint(0,30)\n",
    "        vignette[:,:width,...] = 0\n",
    "\n",
    "        img = tf.cond(pred=tf.random.uniform(shape=())<0.05,\n",
    "                true_fn=lambda: tf.multiply(img, vignette),\n",
    "                false_fn=lambda: img)\n",
    "\n",
    "    # do some data augmentation\n",
    "    k = tf.random.uniform(maxval=3, shape=(), dtype=tf.int32)\n",
    "    img = tf.image.rot90(img, k=k)\n",
    "\n",
    "    img = tf.image.random_flip_left_right(img)\n",
    "    img = tf.image.random_flip_up_down(img)\n",
    "    return img"
   ]
  },
  {
   "cell_type": "code",
   "execution_count": 13,
   "metadata": {},
   "outputs": [],
   "source": [
    "@augmentation_label_handler\n",
    "def random_contrast(x):\n",
    "    return tf.image.random_contrast(x, 0.3, 1.0)\n",
    "\n",
    "@augmentation_label_handler\n",
    "def random_brightness(x):\n",
    "    return tf.image.random_brightness(x, 0.3, 1.0)"
   ]
  },
  {
   "cell_type": "code",
   "execution_count": 14,
   "metadata": {
    "scrolled": false
   },
   "outputs": [],
   "source": [
    "dataset = build_dataset(FILE, read_label=True)"
   ]
  },
  {
   "cell_type": "code",
   "execution_count": 15,
   "metadata": {},
   "outputs": [],
   "source": [
    "dataset = dataset.map(augment)\n",
    "dataset = append_conditional_augmentation(dataset, [random_contrast, random_brightness])\n",
    "dataset = dataset.map(normalize)\n",
    "dataset = dataset.shuffle(buffer_size=BUFFER_SIZE, reshuffle_each_iteration=True)\n",
    "dataset = dataset.repeat()\n",
    "dataset = dataset.batch(BATCH_SIZE, drop_remainder=True)\n",
    "dataset = dataset.prefetch(1)"
   ]
  },
  {
   "cell_type": "code",
   "execution_count": null,
   "metadata": {},
   "outputs": [],
   "source": []
  },
  {
   "cell_type": "code",
   "execution_count": 16,
   "metadata": {},
   "outputs": [],
   "source": [
    "test_dataset = build_dataset(os.path.join(TEST_PATH, \"CNN_cellx_test.tfrecord\"), read_label=True)\n",
    "test_dataset = test_dataset.map(normalize)\n",
    "test_dataset = test_dataset.take(-1).as_numpy_iterator()\n",
    "\n",
    "test_images, test_labels = zip(*list(test_dataset))"
   ]
  },
  {
   "cell_type": "code",
   "execution_count": 17,
   "metadata": {},
   "outputs": [],
   "source": [
    "tensorboard_callback = K.callbacks.TensorBoard(log_dir=LOG_DIR)\n",
    "confusion_matrix_callback = tensorboard_confusion_matrix_callback(model, \n",
    "                                                                  np.asarray(test_images), \n",
    "                                                                  test_labels,\n",
    "                                                                  LOG_DIR,\n",
    "                                                                  class_names=LABELS,\n",
    "                                                                  is_binary=False)"
   ]
  },
  {
   "cell_type": "code",
   "execution_count": 18,
   "metadata": {},
   "outputs": [
    {
     "data": {
      "text/plain": [
       "Reusing TensorBoard on port 6006 (pid 22371), started 0:46:25 ago. (Use '!kill 22371' to kill it.)"
      ]
     },
     "metadata": {},
     "output_type": "display_data"
    },
    {
     "data": {
      "text/html": [
       "\n",
       "      <iframe id=\"tensorboard-frame-da004a3115f40bd7\" width=\"100%\" height=\"800\" frameborder=\"0\">\n",
       "      </iframe>\n",
       "      <script>\n",
       "        (function() {\n",
       "          const frame = document.getElementById(\"tensorboard-frame-da004a3115f40bd7\");\n",
       "          const url = new URL(\"/\", window.location);\n",
       "          url.port = 6006;\n",
       "          frame.src = url;\n",
       "        })();\n",
       "      </script>\n",
       "  "
      ],
      "text/plain": [
       "<IPython.core.display.HTML object>"
      ]
     },
     "metadata": {},
     "output_type": "display_data"
    }
   ],
   "source": [
    "%tensorboard --logdir $LOG_ROOT --host localhost"
   ]
  },
  {
   "cell_type": "code",
   "execution_count": 19,
   "metadata": {},
   "outputs": [],
   "source": [
    "loss = K.losses.SparseCategoricalCrossentropy(from_logits=True)\n",
    "model.compile(optimizer=\"adam\", loss=loss, metrics=['accuracy'])"
   ]
  },
  {
   "cell_type": "code",
   "execution_count": 20,
   "metadata": {},
   "outputs": [
    {
     "name": "stdout",
     "output_type": "stream",
     "text": [
      "Epoch 1/100\n",
      "296/296 [==============================] - 3s 9ms/step - loss: 0.5272 - accuracy: 0.8073\n",
      "Epoch 2/100\n",
      "296/296 [==============================] - 3s 9ms/step - loss: 0.3392 - accuracy: 0.8814\n",
      "Epoch 3/100\n",
      "296/296 [==============================] - 3s 9ms/step - loss: 0.2927 - accuracy: 0.8979\n",
      "Epoch 4/100\n",
      "296/296 [==============================] - 15s 49ms/step - loss: 0.2627 - accuracy: 0.9091\n",
      "Epoch 5/100\n",
      "296/296 [==============================] - 13s 45ms/step - loss: 0.2466 - accuracy: 0.9143\n",
      "Epoch 6/100\n",
      "296/296 [==============================] - 14s 48ms/step - loss: 0.2419 - accuracy: 0.9170\n",
      "Epoch 7/100\n",
      "296/296 [==============================] - 14s 47ms/step - loss: 0.2238 - accuracy: 0.9213\n",
      "Epoch 8/100\n",
      "296/296 [==============================] - 14s 46ms/step - loss: 0.2234 - accuracy: 0.9210\n",
      "Epoch 9/100\n",
      "296/296 [==============================] - 14s 47ms/step - loss: 0.2079 - accuracy: 0.9269\n",
      "Epoch 10/100\n",
      "296/296 [==============================] - 14s 47ms/step - loss: 0.1997 - accuracy: 0.9300\n",
      "Epoch 11/100\n",
      "296/296 [==============================] - 13s 44ms/step - loss: 0.1982 - accuracy: 0.9308\n",
      "Epoch 12/100\n",
      "296/296 [==============================] - 14s 46ms/step - loss: 0.1826 - accuracy: 0.9374\n",
      "Epoch 13/100\n",
      "296/296 [==============================] - 13s 44ms/step - loss: 0.1892 - accuracy: 0.9364\n",
      "Epoch 14/100\n",
      "296/296 [==============================] - 14s 46ms/step - loss: 0.1845 - accuracy: 0.9356\n",
      "Epoch 15/100\n",
      "296/296 [==============================] - 14s 47ms/step - loss: 0.1796 - accuracy: 0.9378\n",
      "Epoch 16/100\n",
      "296/296 [==============================] - 14s 47ms/step - loss: 0.1703 - accuracy: 0.9409\n",
      "Epoch 17/100\n",
      "296/296 [==============================] - 14s 48ms/step - loss: 0.1626 - accuracy: 0.9437\n",
      "Epoch 18/100\n",
      "296/296 [==============================] - 14s 48ms/step - loss: 0.1688 - accuracy: 0.9409\n",
      "Epoch 19/100\n",
      "296/296 [==============================] - 14s 47ms/step - loss: 0.1601 - accuracy: 0.9430\n",
      "Epoch 20/100\n",
      "296/296 [==============================] - 14s 48ms/step - loss: 0.1606 - accuracy: 0.9452\n",
      "Epoch 21/100\n",
      "296/296 [==============================] - 14s 47ms/step - loss: 0.1547 - accuracy: 0.9473\n",
      "Epoch 22/100\n",
      "296/296 [==============================] - 14s 47ms/step - loss: 0.1518 - accuracy: 0.9488\n",
      "Epoch 23/100\n",
      "296/296 [==============================] - 14s 46ms/step - loss: 0.1520 - accuracy: 0.9491\n",
      "Epoch 24/100\n",
      "296/296 [==============================] - 14s 47ms/step - loss: 0.1451 - accuracy: 0.9503\n",
      "Epoch 25/100\n",
      "296/296 [==============================] - 14s 46ms/step - loss: 0.1442 - accuracy: 0.9491\n",
      "Epoch 26/100\n",
      "296/296 [==============================] - 14s 47ms/step - loss: 0.1390 - accuracy: 0.9523\n",
      "Epoch 27/100\n",
      "296/296 [==============================] - 14s 47ms/step - loss: 0.1373 - accuracy: 0.9529\n",
      "Epoch 28/100\n",
      "296/296 [==============================] - 14s 46ms/step - loss: 0.1326 - accuracy: 0.9547\n",
      "Epoch 29/100\n",
      "296/296 [==============================] - 14s 47ms/step - loss: 0.1350 - accuracy: 0.9540\n",
      "Epoch 30/100\n",
      "296/296 [==============================] - 14s 46ms/step - loss: 0.1343 - accuracy: 0.9528\n",
      "Epoch 31/100\n",
      "296/296 [==============================] - 13s 46ms/step - loss: 0.1312 - accuracy: 0.9550\n",
      "Epoch 32/100\n",
      "296/296 [==============================] - 14s 46ms/step - loss: 0.1275 - accuracy: 0.9556\n",
      "Epoch 33/100\n",
      "296/296 [==============================] - 14s 47ms/step - loss: 0.1258 - accuracy: 0.9558\n",
      "Epoch 34/100\n",
      "296/296 [==============================] - 14s 47ms/step - loss: 0.1196 - accuracy: 0.9576\n",
      "Epoch 35/100\n",
      "296/296 [==============================] - 14s 46ms/step - loss: 0.1203 - accuracy: 0.9594\n",
      "Epoch 36/100\n",
      "296/296 [==============================] - 13s 45ms/step - loss: 0.1188 - accuracy: 0.9607\n",
      "Epoch 37/100\n",
      "296/296 [==============================] - 14s 47ms/step - loss: 0.1188 - accuracy: 0.9601\n",
      "Epoch 38/100\n",
      "296/296 [==============================] - 14s 47ms/step - loss: 0.1141 - accuracy: 0.9607\n",
      "Epoch 39/100\n",
      "296/296 [==============================] - 14s 47ms/step - loss: 0.1124 - accuracy: 0.9616\n",
      "Epoch 40/100\n",
      "296/296 [==============================] - 14s 47ms/step - loss: 0.1119 - accuracy: 0.9627\n",
      "Epoch 41/100\n",
      "296/296 [==============================] - 14s 46ms/step - loss: 0.1094 - accuracy: 0.9627\n",
      "Epoch 42/100\n",
      "296/296 [==============================] - 14s 46ms/step - loss: 0.1027 - accuracy: 0.9656\n",
      "Epoch 43/100\n",
      "296/296 [==============================] - 14s 47ms/step - loss: 0.1078 - accuracy: 0.9629\n",
      "Epoch 44/100\n",
      "296/296 [==============================] - 14s 46ms/step - loss: 0.1003 - accuracy: 0.9659\n",
      "Epoch 45/100\n",
      "296/296 [==============================] - 14s 46ms/step - loss: 0.1055 - accuracy: 0.9627\n",
      "Epoch 46/100\n",
      "296/296 [==============================] - 14s 46ms/step - loss: 0.1018 - accuracy: 0.9644\n",
      "Epoch 47/100\n",
      "296/296 [==============================] - 14s 47ms/step - loss: 0.0997 - accuracy: 0.9656\n",
      "Epoch 48/100\n",
      "296/296 [==============================] - 14s 47ms/step - loss: 0.0969 - accuracy: 0.9653\n",
      "Epoch 49/100\n",
      "296/296 [==============================] - 14s 47ms/step - loss: 0.0980 - accuracy: 0.9656\n",
      "Epoch 50/100\n",
      "296/296 [==============================] - 14s 46ms/step - loss: 0.0968 - accuracy: 0.9654\n",
      "Epoch 51/100\n",
      "296/296 [==============================] - 14s 46ms/step - loss: 0.0980 - accuracy: 0.9649\n",
      "Epoch 52/100\n",
      "296/296 [==============================] - 14s 46ms/step - loss: 0.0995 - accuracy: 0.9657\n",
      "Epoch 53/100\n",
      "296/296 [==============================] - 14s 46ms/step - loss: 0.0930 - accuracy: 0.9663\n",
      "Epoch 54/100\n",
      "296/296 [==============================] - 14s 46ms/step - loss: 0.0927 - accuracy: 0.9682\n",
      "Epoch 55/100\n",
      "296/296 [==============================] - 14s 48ms/step - loss: 0.0927 - accuracy: 0.9680\n",
      "Epoch 56/100\n",
      "296/296 [==============================] - 14s 48ms/step - loss: 0.0918 - accuracy: 0.9691\n",
      "Epoch 57/100\n",
      "296/296 [==============================] - 14s 48ms/step - loss: 0.0851 - accuracy: 0.9698\n",
      "Epoch 58/100\n",
      "296/296 [==============================] - 14s 47ms/step - loss: 0.0908 - accuracy: 0.9700\n",
      "Epoch 59/100\n",
      "296/296 [==============================] - 14s 46ms/step - loss: 0.0850 - accuracy: 0.9699\n",
      "Epoch 60/100\n",
      "296/296 [==============================] - 14s 47ms/step - loss: 0.0857 - accuracy: 0.9707\n",
      "Epoch 61/100\n",
      "296/296 [==============================] - 14s 47ms/step - loss: 0.0861 - accuracy: 0.9700\n",
      "Epoch 62/100\n",
      "296/296 [==============================] - 14s 46ms/step - loss: 0.0855 - accuracy: 0.9701\n",
      "Epoch 63/100\n",
      "296/296 [==============================] - 14s 48ms/step - loss: 0.0816 - accuracy: 0.9721\n",
      "Epoch 64/100\n",
      "296/296 [==============================] - 14s 46ms/step - loss: 0.0850 - accuracy: 0.9723\n",
      "Epoch 65/100\n",
      "296/296 [==============================] - 14s 47ms/step - loss: 0.0822 - accuracy: 0.9714\n",
      "Epoch 66/100\n",
      "296/296 [==============================] - 14s 47ms/step - loss: 0.0795 - accuracy: 0.9724\n",
      "Epoch 67/100\n",
      "296/296 [==============================] - 14s 48ms/step - loss: 0.0743 - accuracy: 0.9736\n",
      "Epoch 68/100\n",
      "296/296 [==============================] - 14s 47ms/step - loss: 0.0732 - accuracy: 0.9740\n",
      "Epoch 69/100\n",
      "296/296 [==============================] - 14s 48ms/step - loss: 0.0734 - accuracy: 0.9745\n",
      "Epoch 70/100\n",
      "296/296 [==============================] - 14s 48ms/step - loss: 0.0737 - accuracy: 0.9740\n",
      "Epoch 71/100\n",
      "296/296 [==============================] - 14s 48ms/step - loss: 0.0758 - accuracy: 0.9734\n",
      "Epoch 72/100\n",
      "296/296 [==============================] - 14s 47ms/step - loss: 0.0667 - accuracy: 0.9765\n",
      "Epoch 73/100\n",
      "296/296 [==============================] - 14s 47ms/step - loss: 0.0682 - accuracy: 0.9762\n",
      "Epoch 74/100\n",
      "296/296 [==============================] - 14s 48ms/step - loss: 0.0760 - accuracy: 0.9740\n",
      "Epoch 75/100\n",
      "296/296 [==============================] - 14s 48ms/step - loss: 0.0678 - accuracy: 0.9743\n",
      "Epoch 76/100\n",
      "296/296 [==============================] - 14s 48ms/step - loss: 0.0656 - accuracy: 0.9768\n",
      "Epoch 77/100\n",
      "296/296 [==============================] - 14s 46ms/step - loss: 0.0711 - accuracy: 0.9752\n",
      "Epoch 78/100\n",
      "296/296 [==============================] - 14s 47ms/step - loss: 0.0711 - accuracy: 0.9756\n",
      "Epoch 79/100\n",
      "296/296 [==============================] - 14s 46ms/step - loss: 0.0735 - accuracy: 0.9743\n",
      "Epoch 80/100\n",
      "296/296 [==============================] - 14s 48ms/step - loss: 0.0661 - accuracy: 0.9766\n",
      "Epoch 81/100\n",
      "296/296 [==============================] - 14s 47ms/step - loss: 0.0642 - accuracy: 0.9775\n",
      "Epoch 82/100\n",
      "296/296 [==============================] - 14s 46ms/step - loss: 0.0677 - accuracy: 0.9768\n",
      "Epoch 83/100\n",
      "296/296 [==============================] - 14s 48ms/step - loss: 0.0671 - accuracy: 0.9766\n",
      "Epoch 84/100\n",
      "296/296 [==============================] - 14s 48ms/step - loss: 0.0587 - accuracy: 0.9800\n",
      "Epoch 85/100\n",
      "296/296 [==============================] - 14s 47ms/step - loss: 0.0675 - accuracy: 0.9780\n",
      "Epoch 86/100\n",
      "296/296 [==============================] - 14s 47ms/step - loss: 0.0682 - accuracy: 0.9765\n",
      "Epoch 87/100\n",
      "296/296 [==============================] - 14s 48ms/step - loss: 0.0689 - accuracy: 0.9761\n",
      "Epoch 88/100\n",
      "296/296 [==============================] - 14s 47ms/step - loss: 0.0649 - accuracy: 0.9781\n",
      "Epoch 89/100\n",
      "296/296 [==============================] - 14s 47ms/step - loss: 0.0630 - accuracy: 0.9772\n",
      "Epoch 90/100\n",
      "296/296 [==============================] - 14s 47ms/step - loss: 0.0568 - accuracy: 0.9797\n",
      "Epoch 91/100\n",
      "296/296 [==============================] - 14s 47ms/step - loss: 0.0665 - accuracy: 0.9760\n",
      "Epoch 92/100\n",
      "296/296 [==============================] - 14s 46ms/step - loss: 0.0624 - accuracy: 0.9784\n",
      "Epoch 93/100\n",
      "296/296 [==============================] - 14s 48ms/step - loss: 0.0628 - accuracy: 0.9785\n",
      "Epoch 94/100\n",
      "296/296 [==============================] - 14s 47ms/step - loss: 0.0572 - accuracy: 0.9803\n",
      "Epoch 95/100\n",
      "296/296 [==============================] - 14s 48ms/step - loss: 0.0607 - accuracy: 0.9793\n",
      "Epoch 96/100\n",
      "296/296 [==============================] - 14s 47ms/step - loss: 0.0570 - accuracy: 0.9789\n",
      "Epoch 97/100\n",
      "296/296 [==============================] - 14s 48ms/step - loss: 0.0570 - accuracy: 0.9805\n",
      "Epoch 98/100\n",
      "296/296 [==============================] - 14s 46ms/step - loss: 0.0584 - accuracy: 0.9796\n",
      "Epoch 99/100\n",
      "296/296 [==============================] - 14s 48ms/step - loss: 0.0578 - accuracy: 0.9799\n",
      "Epoch 100/100\n",
      "296/296 [==============================] - 14s 46ms/step - loss: 0.0557 - accuracy: 0.9796\n"
     ]
    },
    {
     "data": {
      "text/plain": [
       "<tensorflow.python.keras.callbacks.History at 0x7f6ce052ddd0>"
      ]
     },
     "execution_count": 20,
     "metadata": {},
     "output_type": "execute_result"
    }
   ],
   "source": [
    "model.fit(\n",
    "    dataset, \n",
    "    steps_per_epoch=BUFFER_SIZE//BATCH_SIZE, \n",
    "    epochs=TRAINING_EPOCHS, \n",
    "    callbacks=[tensorboard_callback, confusion_matrix_callback],\n",
    ")"
   ]
  }
 ],
 "metadata": {
  "kernelspec": {
   "display_name": "Python [conda env:tensorflow]",
   "language": "python",
   "name": "conda-env-tensorflow-py"
  },
  "language_info": {
   "codemirror_mode": {
    "name": "ipython",
    "version": 3
   },
   "file_extension": ".py",
   "mimetype": "text/x-python",
   "name": "python",
   "nbconvert_exporter": "python",
   "pygments_lexer": "ipython3",
   "version": "3.7.5"
  }
 },
 "nbformat": 4,
 "nbformat_minor": 4
}
